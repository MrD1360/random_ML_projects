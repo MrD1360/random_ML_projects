{
 "cells": [
  {
   "cell_type": "code",
   "execution_count": 1,
   "metadata": {},
   "outputs": [],
   "source": [
    "import json\n",
    "import string\n",
    "import numpy as np\n",
    "\n",
    "from tensorflow.keras.models import load_model\n",
    "from tensorflow.keras.preprocessing.sequence import pad_sequences"
   ]
  },
  {
   "cell_type": "code",
   "execution_count": 2,
   "metadata": {},
   "outputs": [],
   "source": [
    "buck_t1=8  #threshold bucket1\n",
    "max_out_len=12"
   ]
  },
  {
   "cell_type": "code",
   "execution_count": 3,
   "metadata": {},
   "outputs": [],
   "source": [
    "#upload dictionaries\n",
    "\n",
    "with open('dict_w2i_chatbot.json') as json_file: \n",
    "    dict_w2i = json.load(json_file) \n",
    "\n",
    "with open('dict_i2w_chatbot.json') as json_file: \n",
    "    dict_i2w = json.load(json_file) \n",
    "\n",
    "with open('contractions_dict.json') as json_file: \n",
    "    contractions_dict = json.load(json_file) "
   ]
  },
  {
   "cell_type": "code",
   "execution_count": 4,
   "metadata": {},
   "outputs": [],
   "source": [
    "one_hot_len=len(dict_w2i)"
   ]
  },
  {
   "cell_type": "code",
   "execution_count": 20,
   "metadata": {},
   "outputs": [
    {
     "name": "stdout",
     "output_type": "stream",
     "text": [
      "WARNING:tensorflow:No training configuration found in the save file, so the model was *not* compiled. Compile it manually.\n",
      "WARNING:tensorflow:No training configuration found in the save file, so the model was *not* compiled. Compile it manually.\n"
     ]
    }
   ],
   "source": [
    "#upload models\n",
    "\n",
    "encoder_model= load_model('models/encoder_inf_b1_nobucket_noval.h5')\n",
    "decoder_model= load_model('models/decoder_inf_b1_nobucket_noval.h5')"
   ]
  },
  {
   "cell_type": "code",
   "execution_count": 21,
   "metadata": {},
   "outputs": [],
   "source": [
    "#preprocessing input string\n",
    "def exp_remPunt(sent):\n",
    "    '''\n",
    "    clean the input sentence\n",
    "    - set to lower\n",
    "    - remove contract form\n",
    "    - remove punctuation\n",
    "    '''\n",
    "    clean_sent=[]\n",
    "    table = str.maketrans(dict.fromkeys(string.punctuation))\n",
    "    remove_digits = str.maketrans('', '', string.digits)\n",
    "    sent=sent.lower()\n",
    "    \n",
    "    for word in sent.split():\n",
    "        if word in contractions_dict:\n",
    "            sent = sent.replace(word, contractions_dict[word])  #expand\n",
    "\n",
    "    sent = sent.translate(remove_digits)\n",
    "    clean_sent.append(sent.translate(table).lower()) #remove punt and set to lower\n",
    "    \n",
    "    return clean_sent"
   ]
  },
  {
   "cell_type": "code",
   "execution_count": 22,
   "metadata": {},
   "outputs": [],
   "source": [
    "def string_to_seq(l_sent):\n",
    "    '''\n",
    "    input list string \n",
    "    '''\n",
    "    emb_str=[]\n",
    "    for l in l_sent:\n",
    "        for word in l.split():\n",
    "            if (word in dict_w2i):\n",
    "                emb_str.append(dict_w2i[word])\n",
    "\n",
    "   \n",
    "    emb_str = pad_sequences([emb_str],8, padding='post')\n",
    "    return np.flip(emb_str)  #reverse and return"
   ]
  },
  {
   "cell_type": "code",
   "execution_count": 23,
   "metadata": {},
   "outputs": [],
   "source": [
    "def chat_loop(sentence):\n",
    "    \n",
    "    stop_model=False #iteration condition\n",
    "    \n",
    "    \n",
    "    \n",
    "    sentence=exp_remPunt(sentence)\n",
    "    if sentence=='quitbot':\n",
    "        stop_model=True\n",
    "    sentence=string_to_seq(sentence)\n",
    "    \n",
    "    #define init variables\n",
    "    target_seq=np.zeros((1,1))\n",
    "\n",
    "    target_seq[0,0]=dict_w2i['<sos>']  #target seq must be init with start word\n",
    "\n",
    "    \n",
    "    answer_seq=[]  #the final answer will be a sequence of numbers\n",
    "\n",
    "    #encode the input\n",
    "    states_= encoder_model.predict(sentence)\n",
    "    while not stop_model:\n",
    "\n",
    "        decoder_output,state_h,state_c=decoder_model.predict([target_seq]+states_)\n",
    "        #get sampled word\n",
    "        sampled_word=np.argmax(decoder_output[0,-1,:])\n",
    "\n",
    "        #check iteration condition: stop model if eos or len>output len\n",
    "        if sampled_word==dict_w2i['<eos>'] or len(answer_seq)>=max_out_len:\n",
    "            stop_model=True\n",
    "            continue\n",
    "        else:\n",
    "            answer_seq.append(sampled_word)\n",
    "\n",
    "        #update target seq for next iteration\n",
    "        target_seq=np.zeros((1,1))\n",
    "        target_seq[0,0]=sampled_word #last word\n",
    "\n",
    "        #update states\n",
    "        states_=[state_h,state_c]  \n",
    "    #print(answer_seq)\n",
    "    #answer_seq\n",
    "    mm=\"BOT:\"\n",
    "    for i in answer_seq:\n",
    "        mm=mm+\" \" +dict_i2w[str(i)]\n",
    "    print(mm)\n",
    "\n",
    "#print(f'You entered {sentence}')"
   ]
  },
  {
   "cell_type": "code",
   "execution_count": null,
   "metadata": {},
   "outputs": [
    {
     "name": "stdout",
     "output_type": "stream",
     "text": [
      "Type \"quitbot\" to exit. Let's start! \n",
      " \n",
      "\n",
      "YOU: Good morning\n",
      "BOT: but i have not\n",
      "YOU: good night\n",
      "BOT: good night\n",
      "YOU: do you know me?\n",
      "BOT: yes\n",
      "YOU: really?\n",
      "BOT: i hope im not being too forward\n",
      "YOU: don't worry, it's okay\n",
      "BOT: what do you mean\n",
      "YOU: you are not bothering\n",
      "BOT: youre just are you are so\n",
      "YOU: be gentle and kind\n",
      "BOT: i am so sorry\n",
      "YOU: do you like a colour?\n",
      "BOT: oh yes i really like it\n",
      "YOU: which one\n",
      "BOT: any one i need to sharpen this pencil\n",
      "YOU: good bye\n",
      "BOT: what is it\n",
      "YOU: it's a way to finish this conversation\n",
      "BOT: how many of them tonight\n",
      "YOU: conversations?\n",
      "BOT: so what else was it\n"
     ]
    }
   ],
   "source": [
    "print(\"Type \\\"quitbot\\\" to exit. Let\\'s start! \\n \\n\")\n",
    "stop_condition=False\n",
    "\n",
    "while not stop_condition:\n",
    "    sentence = input(\"YOU: \")\n",
    "    if sentence=='quitbot':\n",
    "        print(\"good bye\")\n",
    "        stop_condition=True\n",
    "        continue\n",
    "    chat_loop(sentence)"
   ]
  },
  {
   "cell_type": "code",
   "execution_count": null,
   "metadata": {},
   "outputs": [],
   "source": []
  }
 ],
 "metadata": {
  "kernelspec": {
   "display_name": "Python 3",
   "language": "python",
   "name": "python3"
  },
  "language_info": {
   "codemirror_mode": {
    "name": "ipython",
    "version": 3
   },
   "file_extension": ".py",
   "mimetype": "text/x-python",
   "name": "python",
   "nbconvert_exporter": "python",
   "pygments_lexer": "ipython3",
   "version": "3.6.9"
  }
 },
 "nbformat": 4,
 "nbformat_minor": 4
}

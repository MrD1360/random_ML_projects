{
 "cells": [
  {
   "cell_type": "markdown",
   "metadata": {},
   "source": [
    "# Trend analysis with LSTM vs GRU cells\n",
    "\n",
    "Trend analysis. A comparison of LSTM vs GRU.\n",
    "\n",
    "The purpose of this notebook is to perform trend prediction with models based on LSTM and GRU and compare the results.\n",
    "\n",
    "The networks are trained on the trend of amazon provided by https://finance.yahoo.com/ on a 10 years period."
   ]
  },
  {
   "cell_type": "code",
   "execution_count": 1,
   "metadata": {},
   "outputs": [],
   "source": [
    "#imports \n",
    "import numpy as np\n",
    "import matplotlib.pyplot as plt\n",
    "import pandas as pd\n",
    "\n",
    "from sklearn.preprocessing import MinMaxScaler"
   ]
  },
  {
   "cell_type": "code",
   "execution_count": 2,
   "metadata": {},
   "outputs": [],
   "source": [
    "import tensorflow as tf\n",
    "from tensorflow import keras\n",
    "\n",
    "from tensorflow.keras import backend as K"
   ]
  },
  {
   "cell_type": "code",
   "execution_count": 4,
   "metadata": {},
   "outputs": [
    {
     "data": {
      "text/plain": [
       "[PhysicalDevice(name='/physical_device:CPU:0', device_type='CPU'),\n",
       " PhysicalDevice(name='/physical_device:XLA_CPU:0', device_type='XLA_CPU'),\n",
       " PhysicalDevice(name='/physical_device:XLA_GPU:0', device_type='XLA_GPU')]"
      ]
     },
     "execution_count": 4,
     "metadata": {},
     "output_type": "execute_result"
    }
   ],
   "source": [
    "tf.config.experimental.list_physical_devices()"
   ]
  },
  {
   "cell_type": "code",
   "execution_count": 3,
   "metadata": {},
   "outputs": [],
   "source": [
    "if not tf.config.list_physical_devices('XLA_CPU'):\n",
    "    print(\"No GPU was detected.\")\n",
    "\n",
    "gpus = tf.config.experimental.list_physical_devices('XLA_GPU')\n",
    "tf.config.experimental.set_visible_devices(gpus[0], 'XLA_GPU')\n"
   ]
  },
  {
   "cell_type": "code",
   "execution_count": 5,
   "metadata": {},
   "outputs": [],
   "source": [
    "#uploading data for training\n",
    "amazon=pd.read_csv('AMZN.csv')"
   ]
  },
  {
   "cell_type": "code",
   "execution_count": 6,
   "metadata": {},
   "outputs": [],
   "source": [
    "#general variables\n",
    "n_step_ahead_close=6  #n steps to predict\n",
    "l=len(amazon)\n",
    "fit_length=60 #n data to process\n"
   ]
  },
  {
   "cell_type": "markdown",
   "metadata": {},
   "source": [
    "## Dataset preprocessing\n",
    "\n",
    "Preparing data:\n",
    "- get \"close\" column\n",
    "- normalize dataset\n",
    "- create training, validation and test set"
   ]
  },
  {
   "cell_type": "code",
   "execution_count": 7,
   "metadata": {},
   "outputs": [],
   "source": [
    "#get just the interested column\n",
    "amazon_close=amazon['Close'].to_numpy().astype(np.float32)"
   ]
  },
  {
   "cell_type": "code",
   "execution_count": 8,
   "metadata": {},
   "outputs": [],
   "source": [
    "#normalizing the dataset from 0 (min) to 1(max value)\n",
    "norm_= MinMaxScaler(feature_range=(0,1))\n",
    "\n",
    "#fit and then transform\n",
    "amazon_close = norm_.fit_transform(amazon_close[..., np.newaxis])\n"
   ]
  },
  {
   "cell_type": "code",
   "execution_count": 9,
   "metadata": {},
   "outputs": [],
   "source": [
    "def get_x_y(trend):\n",
    "    \n",
    "    x_trend=np.empty((0,fit_length))\n",
    "    y_trend=np.empty((0,n_step_ahead_close))\n",
    "    \n",
    "    index=fit_length\n",
    "    while (index+n_step_ahead_close) <l:\n",
    "        x_trend=np.append(x_trend,[amazon_close[index-fit_length:index,0]],axis=0)\n",
    "        y_trend=np.append(y_trend,[amazon_close[index:index+n_step_ahead_close,0]],axis=0)\n",
    "\n",
    "        index+=1\n",
    "        \n",
    "    \n",
    "    return x_trend,y_trend"
   ]
  },
  {
   "cell_type": "code",
   "execution_count": 10,
   "metadata": {},
   "outputs": [
    {
     "data": {
      "text/plain": [
       "((2452, 60), (2452, 6))"
      ]
     },
     "execution_count": 10,
     "metadata": {},
     "output_type": "execute_result"
    }
   ],
   "source": [
    "X,y=get_x_y(amazon_close)\n",
    "X.shape, y.shape"
   ]
  },
  {
   "cell_type": "code",
   "execution_count": 11,
   "metadata": {},
   "outputs": [],
   "source": [
    "#training, validation and test dimension\n",
    "n_train=int((l)*0.7)\n",
    "n_val=int((l)*0.2)\n",
    "n_test=l-n_val-n_train\n",
    "\n",
    "X_training=X[:n_train,:]\n",
    "X_validation=X[n_train:n_train+n_val,:]\n",
    "X_test=X[-n_test:]\n",
    "\n",
    "X_training=X_training[..., np.newaxis].astype(np.float32)\n",
    "X_validation=X_validation[..., np.newaxis].astype(np.float32)\n",
    "X_test=X_test[..., np.newaxis].astype(np.float32)\n",
    "\n",
    "y_training=y[:n_train]\n",
    "y_validation=y[n_train:n_train+n_val]\n",
    "y_test=y[-n_test:]"
   ]
  },
  {
   "cell_type": "code",
   "execution_count": 12,
   "metadata": {},
   "outputs": [
    {
     "data": {
      "text/plain": [
       "((1762, 60, 1), (1762, 6))"
      ]
     },
     "execution_count": 12,
     "metadata": {},
     "output_type": "execute_result"
    }
   ],
   "source": [
    "X_training.shape,y_training.shape"
   ]
  },
  {
   "cell_type": "code",
   "execution_count": 13,
   "metadata": {},
   "outputs": [
    {
     "data": {
      "text/plain": [
       "((503, 60, 1), (503, 6))"
      ]
     },
     "execution_count": 13,
     "metadata": {},
     "output_type": "execute_result"
    }
   ],
   "source": [
    "X_validation.shape,y_validation.shape"
   ]
  },
  {
   "cell_type": "code",
   "execution_count": 14,
   "metadata": {},
   "outputs": [
    {
     "data": {
      "text/plain": [
       "((253, 60, 1), (253, 6))"
      ]
     },
     "execution_count": 14,
     "metadata": {},
     "output_type": "execute_result"
    }
   ],
   "source": [
    "X_test.shape,y_test.shape"
   ]
  },
  {
   "cell_type": "markdown",
   "metadata": {},
   "source": [
    "## Building the networks"
   ]
  },
  {
   "cell_type": "markdown",
   "metadata": {},
   "source": [
    "### Network to predict N steps ahead of the 'close' value"
   ]
  },
  {
   "cell_type": "code",
   "execution_count": 15,
   "metadata": {},
   "outputs": [],
   "source": [
    "from tensorflow.keras.layers import GRU, Dense, Dropout,LSTM,LayerNormalization\n",
    "\n",
    "from tensorflow.keras.metrics import mean_squared_error as mse\n"
   ]
  },
  {
   "cell_type": "code",
   "execution_count": 16,
   "metadata": {},
   "outputs": [],
   "source": [
    "K.clear_session()"
   ]
  },
  {
   "cell_type": "code",
   "execution_count": 17,
   "metadata": {},
   "outputs": [
    {
     "name": "stdout",
     "output_type": "stream",
     "text": [
      "Model: \"sequential\"\n",
      "_________________________________________________________________\n",
      "Layer (type)                 Output Shape              Param #   \n",
      "=================================================================\n",
      "lstm (LSTM)                  (None, None, 120)         58560     \n",
      "_________________________________________________________________\n",
      "dropout (Dropout)            (None, None, 120)         0         \n",
      "_________________________________________________________________\n",
      "lstm_1 (LSTM)                (None, 120)               115680    \n",
      "_________________________________________________________________\n",
      "dense (Dense)                (None, 6)                 726       \n",
      "=================================================================\n",
      "Total params: 174,966\n",
      "Trainable params: 174,966\n",
      "Non-trainable params: 0\n",
      "_________________________________________________________________\n"
     ]
    }
   ],
   "source": [
    "#defining the model for LSTM\n",
    "\n",
    "model_LSTM =keras.models.Sequential([\n",
    "    LSTM(120, return_sequences=True,input_shape=[None,1]),\n",
    "    #LayerNormalization(),\n",
    "    Dropout(0.1),\n",
    "    LSTM(120, return_sequences=False),\n",
    "    #Dropout(0.1),\n",
    "    Dense(n_step_ahead_close)\n",
    "])\n",
    "\n",
    "model_LSTM.summary()"
   ]
  },
  {
   "cell_type": "code",
   "execution_count": 18,
   "metadata": {},
   "outputs": [],
   "source": [
    "#define mse just in the last steps\n",
    "\n",
    "@tf.function\n",
    "def last_step_mse(y_gt,y_p):\n",
    "    return mse(y_gt,y_p)"
   ]
  },
  {
   "cell_type": "code",
   "execution_count": 19,
   "metadata": {},
   "outputs": [],
   "source": [
    "model_LSTM.compile(loss=mse, optimizer='adam', metrics=[last_step_mse])"
   ]
  },
  {
   "cell_type": "code",
   "execution_count": 20,
   "metadata": {},
   "outputs": [],
   "source": [
    "early_stopping_= tf.keras.callbacks.EarlyStopping(patience=2)"
   ]
  },
  {
   "cell_type": "code",
   "execution_count": 21,
   "metadata": {},
   "outputs": [
    {
     "name": "stdout",
     "output_type": "stream",
     "text": [
      "Epoch 1/10\n",
      "56/56 [==============================] - 3s 49ms/step - loss: 0.0017 - last_step_mse: 0.0017 - val_loss: 0.0014 - val_last_step_mse: 0.0014\n",
      "Epoch 2/10\n",
      "56/56 [==============================] - 2s 41ms/step - loss: 7.8884e-05 - last_step_mse: 7.8884e-05 - val_loss: 0.0014 - val_last_step_mse: 0.0014\n",
      "Epoch 3/10\n",
      "56/56 [==============================] - 2s 41ms/step - loss: 7.2852e-05 - last_step_mse: 7.2852e-05 - val_loss: 0.0011 - val_last_step_mse: 0.0011\n",
      "Epoch 4/10\n",
      "56/56 [==============================] - 2s 42ms/step - loss: 7.4949e-05 - last_step_mse: 7.4949e-05 - val_loss: 0.0028 - val_last_step_mse: 0.0028\n",
      "Epoch 5/10\n",
      "56/56 [==============================] - 2s 42ms/step - loss: 8.1306e-05 - last_step_mse: 8.1306e-05 - val_loss: 0.0015 - val_last_step_mse: 0.0015\n"
     ]
    }
   ],
   "source": [
    "hystory_LSTM=model_LSTM.fit(X_training,y_training,epochs=10, \n",
    "                       validation_data=(X_validation,y_validation),\n",
    "                       callbacks=[early_stopping_],\n",
    "                       batch_size=32,\n",
    "                       shuffle=True)"
   ]
  },
  {
   "cell_type": "code",
   "execution_count": 22,
   "metadata": {},
   "outputs": [
    {
     "name": "stdout",
     "output_type": "stream",
     "text": [
      "8/8 [==============================] - 0s 12ms/step - loss: 0.0021 - last_step_mse: 0.0021  \n"
     ]
    },
    {
     "data": {
      "text/plain": [
       "[0.0021291417069733143, 0.0021291417069733143]"
      ]
     },
     "execution_count": 22,
     "metadata": {},
     "output_type": "execute_result"
    }
   ],
   "source": [
    "model_LSTM.evaluate(X_test,y_test) #best result= 0.0018"
   ]
  },
  {
   "cell_type": "code",
   "execution_count": 23,
   "metadata": {},
   "outputs": [
    {
     "name": "stdout",
     "output_type": "stream",
     "text": [
      "Model: \"sequential_1\"\n",
      "_________________________________________________________________\n",
      "Layer (type)                 Output Shape              Param #   \n",
      "=================================================================\n",
      "gru (GRU)                    (None, None, 120)         44280     \n",
      "_________________________________________________________________\n",
      "dropout_1 (Dropout)          (None, None, 120)         0         \n",
      "_________________________________________________________________\n",
      "gru_1 (GRU)                  (None, 120)               87120     \n",
      "_________________________________________________________________\n",
      "dense_1 (Dense)              (None, 6)                 726       \n",
      "=================================================================\n",
      "Total params: 132,126\n",
      "Trainable params: 132,126\n",
      "Non-trainable params: 0\n",
      "_________________________________________________________________\n"
     ]
    }
   ],
   "source": [
    "#defining the model for GRU\n",
    "model_GRU =keras.models.Sequential([\n",
    "    GRU(120, return_sequences=True,input_shape=[None,1]),\n",
    "    Dropout(0.1),\n",
    "    #LayerNormalization(),\n",
    "    GRU(120, return_sequences=False),\n",
    "    #Dropout(0.1),\n",
    "    Dense(n_step_ahead_close)\n",
    "\n",
    "    \n",
    "])\n",
    "model_GRU.summary()"
   ]
  },
  {
   "cell_type": "code",
   "execution_count": 24,
   "metadata": {},
   "outputs": [
    {
     "name": "stdout",
     "output_type": "stream",
     "text": [
      "Epoch 1/5\n",
      "56/56 [==============================] - 3s 46ms/step - loss: 0.0014 - last_step_mse: 0.0014 - val_loss: 5.5540e-04 - val_last_step_mse: 5.5540e-04\n",
      "Epoch 2/5\n",
      "56/56 [==============================] - 2s 40ms/step - loss: 6.2256e-05 - last_step_mse: 6.2256e-05 - val_loss: 5.0663e-04 - val_last_step_mse: 5.0663e-04\n",
      "Epoch 3/5\n",
      "56/56 [==============================] - 2s 40ms/step - loss: 5.3028e-05 - last_step_mse: 5.3028e-05 - val_loss: 5.0531e-04 - val_last_step_mse: 5.0531e-04\n",
      "Epoch 4/5\n",
      "56/56 [==============================] - 2s 40ms/step - loss: 5.3734e-05 - last_step_mse: 5.3734e-05 - val_loss: 7.4725e-04 - val_last_step_mse: 7.4725e-04\n",
      "Epoch 5/5\n",
      "56/56 [==============================] - 2s 41ms/step - loss: 5.9742e-05 - last_step_mse: 5.9742e-05 - val_loss: 5.4480e-04 - val_last_step_mse: 5.4480e-04\n"
     ]
    }
   ],
   "source": [
    "model_GRU.compile(loss=mse, optimizer='adam', metrics=[last_step_mse])\n",
    "hystory_GRU=model_GRU.fit(X_training,y_training,epochs=5, \n",
    "                       validation_data=(X_validation,y_validation),\n",
    "                       callbacks=[early_stopping_],\n",
    "                       batch_size=32,\n",
    "                       shuffle=True)\n"
   ]
  },
  {
   "cell_type": "code",
   "execution_count": 25,
   "metadata": {},
   "outputs": [
    {
     "name": "stdout",
     "output_type": "stream",
     "text": [
      "8/8 [==============================] - 0s 9ms/step - loss: 0.0015 - last_step_mse: 0.0015   \n"
     ]
    },
    {
     "data": {
      "text/plain": [
       "[0.001530003733932972, 0.001530003733932972]"
      ]
     },
     "execution_count": 25,
     "metadata": {},
     "output_type": "execute_result"
    }
   ],
   "source": [
    "model_GRU.evaluate(X_test,y_test)  #best result= 0.0013"
   ]
  },
  {
   "cell_type": "code",
   "execution_count": 26,
   "metadata": {},
   "outputs": [
    {
     "data": {
      "text/plain": [
       "(array([[0.8824197 , 0.883357  , 0.89348084, 0.90915   , 0.8826542 ,\n",
       "         0.8960096 ]], dtype=float32),\n",
       " array([[0.84435123, 0.82901263, 0.84452564, 0.8540472 , 0.8727099 ,\n",
       "         0.87200356]], dtype=float32),\n",
       " array([0.85771459, 0.89118165, 0.87551922, 0.8835122 , 0.9031533 ,\n",
       "        0.90907824]))"
      ]
     },
     "execution_count": 26,
     "metadata": {},
     "output_type": "execute_result"
    }
   ],
   "source": [
    "#test of the i-th item of the test where i=\n",
    "i=155\n",
    "\n",
    "predictions_L=model_LSTM.predict(X_test[None,i,...])\n",
    "predictions_G=model_GRU.predict(X_test[None,i,...])\n",
    "\n",
    "predictions_L,predictions_G,y_test[i]"
   ]
  },
  {
   "cell_type": "markdown",
   "metadata": {},
   "source": [
    "## Results\n",
    "\n",
    "Plotting results"
   ]
  },
  {
   "cell_type": "code",
   "execution_count": 27,
   "metadata": {},
   "outputs": [
    {
     "data": {
      "text/plain": [
       "<matplotlib.legend.Legend at 0x7f270c5bd9e8>"
      ]
     },
     "execution_count": 27,
     "metadata": {},
     "output_type": "execute_result"
    },
    {
     "data": {
      "image/png": "[encoded data removed]",
      "text/plain": [
       "<Figure size 432x288 with 1 Axes>"
      ]
     },
     "metadata": {
      "needs_background": "light"
     },
     "output_type": "display_data"
    }
   ],
   "source": [
    "\n",
    "plt.plot(y_test[i],color='g',label=\"GroundTruth\")\n",
    "plt.plot(predictions_L[0],color='b',label=\"LSTM\")\n",
    "plt.plot(predictions_G[0],color='r',label=\"GRU\")\n",
    "plt.legend(loc='lower right')\n",
    "#plt.ylim(0,1)"
   ]
  },
  {
   "cell_type": "code",
   "execution_count": 28,
   "metadata": {},
   "outputs": [
    {
     "data": {
      "text/plain": [
       "(0.0, 1.0)"
      ]
     },
     "execution_count": 28,
     "metadata": {},
     "output_type": "execute_result"
    },
    {
     "data": {
      "image/png": "[encoded data removed]",
      "text/plain": [
       "<Figure size 504x504 with 1 Axes>"
      ]
     },
     "metadata": {
      "needs_background": "light"
     },
     "output_type": "display_data"
    }
   ],
   "source": [
    "plt.figure(figsize=(7,7))\n",
    "\n",
    "plt.plot(X_test[i],color='g')\n",
    "plt.plot(np.arange(fit_length,fit_length+n_step_ahead_close),y_test[i],color='g',label=\"GroundTruth\")\n",
    "\n",
    "plt.plot(np.arange(fit_length,fit_length+n_step_ahead_close),predictions_L[0],color='b',label=\"LSTM\")\n",
    "plt.plot(np.arange(fit_length,fit_length+n_step_ahead_close),predictions_G[0],color='r',label=\"GRU\")\n",
    "plt.legend(loc='lower right')\n",
    "plt.ylim(0,1)"
   ]
  }
 ],
 "metadata": {
  "kernelspec": {
   "display_name": "Python 3",
   "language": "python",
   "name": "python3"
  },
  "language_info": {
   "codemirror_mode": {
    "name": "ipython",
    "version": 3
   },
   "file_extension": ".py",
   "mimetype": "text/x-python",
   "name": "python",
   "nbconvert_exporter": "python",
   "pygments_lexer": "ipython3",
   "version": "3.6.9"
  }
 },
 "nbformat": 4,
 "nbformat_minor": 4
}
